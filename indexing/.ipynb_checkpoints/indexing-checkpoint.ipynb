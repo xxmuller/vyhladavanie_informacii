{
 "cells": [
  {
   "cell_type": "code",
   "execution_count": 1,
   "id": "f1d4a991",
   "metadata": {},
   "outputs": [],
   "source": [
    "import lucene\n",
    "from java.nio.file import Paths\n",
    "from org.apache.lucene.analysis.core import KeywordAnalyzer\n",
    "from org.apache.lucene.index import IndexWriter, IndexWriterConfig\n",
    "from org.apache.lucene.document import Document, Field, StoredField, StringField, TextField\n",
    "from org.apache.lucene.store import SimpleFSDirectory\n",
    "import csv\n",
    "import time\n",
    "import string"
   ]
  },
  {
   "cell_type": "code",
   "execution_count": 2,
   "id": "540f5ac8",
   "metadata": {},
   "outputs": [],
   "source": [
    "PARSED_DATA = \"/data/data/parsed_data/test/combined.csv\"\n",
    "INDEX_OUTPUT = \"/data/data/indexes/index_test\""
   ]
  },
  {
   "cell_type": "code",
   "execution_count": 3,
   "id": "f61c4c66",
   "metadata": {},
   "outputs": [
    {
     "data": {
      "text/plain": [
       "<jcc.JCCEnv at 0x7faec48738d0>"
      ]
     },
     "execution_count": 3,
     "metadata": {},
     "output_type": "execute_result"
    }
   ],
   "source": [
    "lucene.initVM(vmargs=['-Djava.awt.headless=true'])"
   ]
  },
  {
   "cell_type": "code",
   "execution_count": 4,
   "id": "92645a45",
   "metadata": {},
   "outputs": [],
   "source": [
    "store = SimpleFSDirectory(Paths.get(INDEX_OUTPUT))\n",
    "analyzer = KeywordAnalyzer()\n",
    "config = IndexWriterConfig(analyzer)\n",
    "config.setOpenMode(IndexWriterConfig.OpenMode.CREATE)\n",
    "config.setRAMBufferSizeMB(float(1000))\n",
    "writer = IndexWriter(store, config)"
   ]
  },
  {
   "cell_type": "code",
   "execution_count": 5,
   "id": "92ad2248",
   "metadata": {},
   "outputs": [],
   "source": [
    "def format_time(seconds):\n",
    "    min, sec = divmod(seconds, 60)\n",
    "    hour, min = divmod(min, 60)\n",
    "    \n",
    "    return \"%d:%02d:%02d\" % (hour, min, sec)"
   ]
  },
  {
   "cell_type": "code",
   "execution_count": 6,
   "id": "579c33a9",
   "metadata": {},
   "outputs": [],
   "source": [
    "def get_director(text):\n",
    "    text = text.split(\"|\")\n",
    "    text = text[0].strip()\n",
    "    text = text.split(\"=\")\n",
    "    if len(text) > 1:\n",
    "        text = text[1]\n",
    "    else:\n",
    "        return None\n",
    "\n",
    "    return text"
   ]
  },
  {
   "cell_type": "code",
   "execution_count": 7,
   "id": "e63abfd0",
   "metadata": {},
   "outputs": [],
   "source": [
    "def get_producer(text):\n",
    "    text = text.split(\"|\")\n",
    "    if len(text) > 1:\n",
    "        text = text[1].strip()\n",
    "    else:\n",
    "        return None\n",
    "    text = text.split(\"=\")\n",
    "    if len(text) > 1:\n",
    "        text = text[1]\n",
    "    else:\n",
    "        return None\n",
    "\n",
    "    return text"
   ]
  },
  {
   "cell_type": "code",
   "execution_count": 8,
   "id": "767e310d",
   "metadata": {},
   "outputs": [],
   "source": [
    "def get_screenplay(text):\n",
    "    try:\n",
    "        text = text.split(\"screenplay=\",1)[1]\n",
    "        text = text.split(\"|\")\n",
    "        if len(text) > 1:\n",
    "            text = text[0].strip()\n",
    "        else:\n",
    "            return None\n",
    "    except:\n",
    "        text = \"\"\n",
    "    return text"
   ]
  },
  {
   "cell_type": "code",
   "execution_count": 9,
   "id": "4b3b606e",
   "metadata": {},
   "outputs": [],
   "source": [
    "def get_cast(text):\n",
    "    try:\n",
    "        cast = text.split(\"|movie cast|\",1)[1] \n",
    "    except:\n",
    "        cast = \"\"\n",
    "    return cast"
   ]
  },
  {
   "cell_type": "code",
   "execution_count": 10,
   "id": "ae30afb5",
   "metadata": {},
   "outputs": [],
   "source": [
    "def clean_title(title):\n",
    "    result = title\n",
    "    \n",
    "    if '(' in title:\n",
    "        pos = title.find('(')\n",
    "        result = title[:pos]\n",
    "        \n",
    "    return result.lower()"
   ]
  },
  {
   "cell_type": "code",
   "execution_count": 11,
   "id": "9c1a1bd4",
   "metadata": {},
   "outputs": [
    {
     "name": "stdout",
     "output_type": "stream",
     "text": [
      "\n",
      "DONE\n",
      "Elapsed time:  0:01:51\n"
     ]
    }
   ],
   "source": [
    "parsed_file = open(PARSED_DATA, \"r\", encoding=\"utf-8\")\n",
    "csv_reader = csv.DictReader(parsed_file)\n",
    "\n",
    "start = time.time()\n",
    "\n",
    "for row in csv_reader:\n",
    "    title = clean_title(row['title'])\n",
    "\n",
    "    doc = Document()\n",
    "    doc.add(Field(\"title\", title, TextField.TYPE_STORED))\n",
    "    \n",
    "    director = get_director(row['text'])\n",
    "    if director:\n",
    "        doc.add(Field(\"director\", director.lower(), TextField.TYPE_STORED))\n",
    "    \n",
    "    producer = get_producer(row['text'])\n",
    "    if producer:\n",
    "        doc.add(Field(\"producer\", producer.lower(), TextField.TYPE_STORED))\n",
    "        \n",
    "    screenplay = get_screenplay(row['text'])\n",
    "    if screenplay:\n",
    "        doc.add(Field(\"screenplay\", screenplay.lower(), TextField.TYPE_STORED))\n",
    "        \n",
    "    movie_cast = get_cast(row['text'])\n",
    "    if movie_cast:\n",
    "        doc.add(Field(\"movie_cast\", movie_cast, TextField.TYPE_STORED))\n",
    "    \n",
    "    writer.addDocument(doc)\n",
    "\n",
    "writer.commit()\n",
    "writer.close()\n",
    "print(\"\\nDONE\")\n",
    "\n",
    "end = time.time()\n",
    "print('Elapsed time: ', format_time(end - start))"
   ]
  },
  {
   "cell_type": "code",
   "execution_count": 12,
   "id": "0f774f90",
   "metadata": {},
   "outputs": [],
   "source": [
    "from org.apache.lucene.search import IndexSearcher\n",
    "from org.apache.lucene.index import DirectoryReader\n",
    "from org.apache.lucene.queryparser.classic import QueryParser"
   ]
  },
  {
   "cell_type": "code",
   "execution_count": 24,
   "id": "8385ddc7",
   "metadata": {},
   "outputs": [
    {
     "name": "stdout",
     "output_type": "stream",
     "text": [
      "0\n"
     ]
    }
   ],
   "source": [
    "directory = SimpleFSDirectory(Paths.get(INDEX_OUTPUT))\n",
    "searcher = IndexSearcher(DirectoryReader.open(directory))\n",
    "analyzer = KeywordAnalyzer()\n",
    "\n",
    "query = QueryParser(\"title\", analyzer).parse(\"1941 \")\n",
    "scoreDocs = searcher.search(query, 50).scoreDocs\n",
    "\n",
    "print(len(scoreDocs))\n",
    "\n",
    "for scoreDoc in scoreDocs:\n",
    "    doc = searcher.doc(scoreDoc.doc)\n",
    "    print(\"title: \", doc.get(\"title\"))\n",
    "    print(\"cast: \", doc.get(\"movie_cast\"))"
   ]
  },
  {
   "cell_type": "code",
   "execution_count": null,
   "id": "bd6b2c2a",
   "metadata": {},
   "outputs": [],
   "source": []
  },
  {
   "cell_type": "code",
   "execution_count": null,
   "id": "69cd24d3",
   "metadata": {},
   "outputs": [],
   "source": []
  }
 ],
 "metadata": {
  "kernelspec": {
   "display_name": "Python 3 (ipykernel)",
   "language": "python",
   "name": "python3"
  },
  "language_info": {
   "codemirror_mode": {
    "name": "ipython",
    "version": 3
   },
   "file_extension": ".py",
   "mimetype": "text/x-python",
   "name": "python",
   "nbconvert_exporter": "python",
   "pygments_lexer": "ipython3",
   "version": "3.10.0"
  }
 },
 "nbformat": 4,
 "nbformat_minor": 5
}
