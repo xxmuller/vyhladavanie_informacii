{
 "cells": [
  {
   "cell_type": "code",
   "execution_count": 1,
   "id": "6700e223",
   "metadata": {},
   "outputs": [],
   "source": [
    "import pyspark\n",
    "from pyspark.sql import SparkSession\n",
    "from pyspark.sql.functions import UserDefinedFunction, col\n",
    "from pyspark.sql.types import *\n",
    "import pyspark_parser\n",
    "\n",
    "import re\n",
    "import time"
   ]
  },
  {
   "cell_type": "code",
   "execution_count": 2,
   "id": "36b5b422",
   "metadata": {},
   "outputs": [],
   "source": [
    "IN_PATH = 'datasets/raw_data/'\n",
    "OUT_PATH = './datasets/parsed_data/'\n",
    "\n",
    "IN_FILE = 'wiki_dump_500.xml'\n",
    "# IN_FILE = 'little_dump.xml'\n",
    "# IN_FILE = 'enwiki-20211201-pages-articles.xml/.xml'\n",
    "OUT_FILE = 'output.csv'"
   ]
  },
  {
   "cell_type": "code",
   "execution_count": 3,
   "id": "9c61c53d",
   "metadata": {},
   "outputs": [
    {
     "name": "stderr",
     "output_type": "stream",
     "text": [
      "/opt/bitnami/spark/python/pyspark/context.py:238: FutureWarning: Python 3.6 support is deprecated in Spark 3.2.\n",
      "  FutureWarning\n"
     ]
    }
   ],
   "source": [
    "# spark = SparkSession.builder.appName(\"test\").getOrCreate()\n",
    "\n",
    "spark = SparkSession.builder.master(\"spark://sparkmaster:7077\").appName(\"parsing\").getOrCreate()\n",
    "sc = spark.sparkContext"
   ]
  },
  {
   "cell_type": "code",
   "execution_count": 4,
   "id": "af9edb0c",
   "metadata": {},
   "outputs": [],
   "source": [
    "root = 'mediawiki'\n",
    "row = 'page'\n",
    "\n",
    "schema = StructType([StructField('id', StringType(), True),\n",
    "                        StructField('title', StringType(), True),\n",
    "                        StructField('revision', StructType([StructField('text', StringType(), True)]))])\n",
    "\n",
    "df = spark.read.format('com.databricks.spark.xml')\\\n",
    "    .options(rootTag=root)\\\n",
    "    .options(rowTag=row)\\\n",
    "    .schema(schema)\\\n",
    "    .load(IN_PATH + IN_FILE)"
   ]
  },
  {
   "cell_type": "code",
   "execution_count": 5,
   "id": "7d834a8e",
   "metadata": {},
   "outputs": [],
   "source": [
    "df = df.withColumn(\"revision\", col(\"revision\").cast(\"String\"))\n",
    "df = df.withColumnRenamed(\"revision\", \"text\")"
   ]
  },
  {
   "cell_type": "code",
   "execution_count": 6,
   "id": "a1725270",
   "metadata": {},
   "outputs": [],
   "source": [
    "def clean_data(data):\n",
    "\n",
    "    data = data.lower()\n",
    "    data = re.sub(r'[\\\"\\[\\]]', ' ', data)\n",
    "    data = re.sub(r' +', ' ', data)\n",
    "    data = re.sub(r'[^a-z0-9|()*=]+', ' ', data)\n",
    "\n",
    "    return data"
   ]
  },
  {
   "cell_type": "code",
   "execution_count": 7,
   "id": "23ac02a5",
   "metadata": {},
   "outputs": [],
   "source": [
    "def extract_infobox_data(page):\n",
    "    infobox_data = []\n",
    "    result = 'production info | '\n",
    "    \n",
    "    movie_data = [\n",
    "    'director',\n",
    "    'producer',\n",
    "    'screenplay',\n",
    "    'writer',\n",
    "    'story', \n",
    "    'music', \n",
    "    'cinematography', \n",
    "    'editing'\n",
    "    ]\n",
    "\n",
    "    infobox_data.append(re.findall('(?i)name *=.*?(?=\\|)\\|', page))\n",
    "    \n",
    "    for item in movie_data:\n",
    "        infobox_data.append(re.findall('(?i)'+item+' *=.*?(?=\\])\\]', page))\n",
    "\n",
    "    for item in infobox_data:\n",
    "        result += ''.join(item)\n",
    "        \n",
    "    return result"
   ]
  },
  {
   "cell_type": "code",
   "execution_count": 8,
   "id": "eb2472b5",
   "metadata": {},
   "outputs": [],
   "source": [
    "def get_name(line):\n",
    "        name = re.match(r\"^.*\\[(.*)\\]\\].*$\", line)\n",
    "        return name.group(1)\n",
    "    \n",
    "def get_infobox_data(page):\n",
    "    index = 0\n",
    "    text_lines = page.splitlines()\n",
    "    \n",
    "    buffer = []\n",
    "\n",
    "    for line in text_lines:\n",
    "        line = line.strip()\n",
    "            \n",
    "        if re.search('(?i){{Infobox *film', line):\n",
    "            while text_lines[index] and  text_lines[index] != \" \":\n",
    "\n",
    "                if text_lines[index]:\n",
    "                    if text_lines[index][0] == \"'\":\n",
    "                        break\n",
    "                        \n",
    "                buffer.append(text_lines[index])\n",
    "                \n",
    "                index += 1\n",
    "        index += 1\n",
    "        \n",
    "    result = ' '.join(buffer).replace('\\n', ' ')\n",
    "\n",
    "    infobox_data = extract_infobox_data(result)\n",
    "    return infobox_data"
   ]
  },
  {
   "cell_type": "code",
   "execution_count": 9,
   "id": "7ab2abd2",
   "metadata": {},
   "outputs": [],
   "source": [
    "def get_movie_cast(page):\n",
    "    cast = []\n",
    "    result = 'movie cast |'\n",
    "    \n",
    "    page = re.sub('[^A-Za-z0-9]+', ' ', page)\n",
    "    cast.append(re.findall('[A-Z][A-Za-z]* [A-Z][A-Za-z]* as [A-Z][A-Za-z]* [A-Z][A-Za-z]*', page))\n",
    "\n",
    "    for item in cast:\n",
    "        result += ''.join(item)\n",
    "        \n",
    "    return result"
   ]
  },
  {
   "cell_type": "code",
   "execution_count": 10,
   "id": "a7e6029c",
   "metadata": {},
   "outputs": [],
   "source": [
    "def is_movie_page(page):\n",
    "    if re.search('(?i){{Infobox *film', str(page)):\n",
    "        return True\n",
    "    return False\n",
    "\n",
    "\n",
    "def parse_wiki_page(page):\n",
    "    if is_movie_page(page):\n",
    "        movie_info = []\n",
    "        \n",
    "        infobox_data = get_infobox_data(page)\n",
    "        infobox_data = clean_data(infobox_data)\n",
    "        \n",
    "        cast = get_movie_cast(page)\n",
    "        \n",
    "        movie_info.append(infobox_data)\n",
    "        movie_info.append(cast)\n",
    "        \n",
    "        return movie_info\n",
    "\n",
    "    return None"
   ]
  },
  {
   "cell_type": "code",
   "execution_count": 11,
   "id": "a49128f3",
   "metadata": {},
   "outputs": [],
   "source": [
    "def format_time(time):\n",
    "    hour = int(time / (60 * 60))\n",
    "    mins = int((time % (60 * 60)) / 60)\n",
    "    secs = time % 60\n",
    "    \n",
    "    return \"{}:{:>02}:{:>05.2f}\".format(hour, mins, secs)"
   ]
  },
  {
   "cell_type": "code",
   "execution_count": 12,
   "id": "c7208925",
   "metadata": {},
   "outputs": [
    {
     "name": "stdout",
     "output_type": "stream",
     "text": [
      "Elapsed time:  0:03:24.01\n"
     ]
    }
   ],
   "source": [
    "start = time.time()\n",
    "\n",
    "my_udf = UserDefinedFunction(parse_wiki_page, StringType())\n",
    "\n",
    "df_new = df.withColumn('text', my_udf('text'))\n",
    "df_new = df_new.na.drop()\n",
    "\n",
    "try:\n",
    "    df_new.repartition(10).write.format('com.databricks.spark.csv').mode(\"overwrite\") \\\n",
    "    .save(OUT_PATH + \"output\", header = 'true')\n",
    "        \n",
    "except Exception as e:\n",
    "    print(e)\n",
    "    exit(1)\n",
    "    \n",
    "end = time.time()\n",
    "print('Elapsed time: ', format_time(end - start))"
   ]
  },
  {
   "cell_type": "code",
   "execution_count": null,
   "id": "fb68150a",
   "metadata": {},
   "outputs": [],
   "source": [
    "df_new.show(20)"
   ]
  },
  {
   "cell_type": "code",
   "execution_count": null,
   "id": "d15a6383",
   "metadata": {},
   "outputs": [],
   "source": []
  }
 ],
 "metadata": {
  "kernelspec": {
   "display_name": "Python 3",
   "language": "python",
   "name": "python3"
  },
  "language_info": {
   "codemirror_mode": {
    "name": "ipython",
    "version": 3
   },
   "file_extension": ".py",
   "mimetype": "text/x-python",
   "name": "python",
   "nbconvert_exporter": "python",
   "pygments_lexer": "ipython3",
   "version": "3.6.15"
  }
 },
 "nbformat": 4,
 "nbformat_minor": 5
}
